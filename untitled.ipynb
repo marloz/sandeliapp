{
 "cells": [
  {
   "cell_type": "code",
   "execution_count": 65,
   "metadata": {},
   "outputs": [
    {
     "name": "stdout",
     "output_type": "stream",
     "text": [
      "The autoreload extension is already loaded. To reload it, use:\n",
      "  %reload_ext autoreload\n"
     ]
    }
   ],
   "source": [
    "%load_ext autoreload\n",
    "%autoreload 2"
   ]
  },
  {
   "cell_type": "code",
   "execution_count": 200,
   "metadata": {},
   "outputs": [
    {
     "data": {
      "text/plain": [
       "Index(['order_type', 'date', 'timestamp', 'id', 'vat', 'manager_id',\n",
       "       'manager_name', 'manager_location', 'customer_id', 'customer_name',\n",
       "       'product_id', 'product_name', 'price', 'category', 'manufacturer',\n",
       "       'quantity', 'discounts'],\n",
       "      dtype='object')"
      ]
     },
     "execution_count": 200,
     "metadata": {},
     "output_type": "execute_result"
    }
   ],
   "source": [
    "order_df.columns"
   ]
  },
  {
   "cell_type": "code",
   "execution_count": 198,
   "metadata": {},
   "outputs": [
    {
     "data": {
      "text/html": [
       "<div>\n",
       "<style scoped>\n",
       "    .dataframe tbody tr th:only-of-type {\n",
       "        vertical-align: middle;\n",
       "    }\n",
       "\n",
       "    .dataframe tbody tr th {\n",
       "        vertical-align: top;\n",
       "    }\n",
       "\n",
       "    .dataframe thead th {\n",
       "        text-align: right;\n",
       "    }\n",
       "</style>\n",
       "<table border=\"1\" class=\"dataframe\">\n",
       "  <thead>\n",
       "    <tr style=\"text-align: right;\">\n",
       "      <th></th>\n",
       "      <th>order_type</th>\n",
       "      <th>date</th>\n",
       "      <th>timestamp</th>\n",
       "      <th>id</th>\n",
       "      <th>vat</th>\n",
       "      <th>manager_id</th>\n",
       "      <th>manager_name</th>\n",
       "      <th>manager_location</th>\n",
       "      <th>customer_id</th>\n",
       "      <th>customer_name</th>\n",
       "      <th>product_id</th>\n",
       "      <th>product_name</th>\n",
       "      <th>price</th>\n",
       "      <th>category</th>\n",
       "      <th>manufacturer</th>\n",
       "      <th>quantity</th>\n",
       "      <th>discounts</th>\n",
       "    </tr>\n",
       "  </thead>\n",
       "  <tbody>\n",
       "    <tr>\n",
       "      <th>0</th>\n",
       "      <td>regular</td>\n",
       "      <td>2021-12-05</td>\n",
       "      <td>2021-12-05T22:11:17.767805</td>\n",
       "      <td>816b08e2-5607-11ec-975c-181dea3bd7cd</td>\n",
       "      <td>0.21</td>\n",
       "      <td>1</td>\n",
       "      <td>Mother Theresa</td>\n",
       "      <td>Vilnius</td>\n",
       "      <td>1</td>\n",
       "      <td>John Locke</td>\n",
       "      <td>1</td>\n",
       "      <td>Iphone 10</td>\n",
       "      <td>1000.0</td>\n",
       "      <td>Phone</td>\n",
       "      <td>Apple</td>\n",
       "      <td>1</td>\n",
       "      <td>0.0</td>\n",
       "    </tr>\n",
       "    <tr>\n",
       "      <th>0</th>\n",
       "      <td>regular</td>\n",
       "      <td>2021-12-05</td>\n",
       "      <td>2021-12-05T22:11:17.767805</td>\n",
       "      <td>816b08e2-5607-11ec-975c-181dea3bd7cd</td>\n",
       "      <td>0.21</td>\n",
       "      <td>1</td>\n",
       "      <td>Mother Theresa</td>\n",
       "      <td>Vilnius</td>\n",
       "      <td>1</td>\n",
       "      <td>John Locke</td>\n",
       "      <td>3</td>\n",
       "      <td>Bacon</td>\n",
       "      <td>10.0</td>\n",
       "      <td>Food</td>\n",
       "      <td>Old McDonald's</td>\n",
       "      <td>10</td>\n",
       "      <td>0.1</td>\n",
       "    </tr>\n",
       "  </tbody>\n",
       "</table>\n",
       "</div>"
      ],
      "text/plain": [
       "  order_type        date                   timestamp  \\\n",
       "0    regular  2021-12-05  2021-12-05T22:11:17.767805   \n",
       "0    regular  2021-12-05  2021-12-05T22:11:17.767805   \n",
       "\n",
       "                                     id   vat  manager_id    manager_name  \\\n",
       "0  816b08e2-5607-11ec-975c-181dea3bd7cd  0.21           1  Mother Theresa   \n",
       "0  816b08e2-5607-11ec-975c-181dea3bd7cd  0.21           1  Mother Theresa   \n",
       "\n",
       "  manager_location  customer_id customer_name  product_id product_name  \\\n",
       "0          Vilnius            1    John Locke           1    Iphone 10   \n",
       "0          Vilnius            1    John Locke           3        Bacon   \n",
       "\n",
       "    price category    manufacturer  quantity  discounts  \n",
       "0  1000.0    Phone           Apple         1        0.0  \n",
       "0    10.0     Food  Old McDonald's        10        0.1  "
      ]
     },
     "execution_count": 198,
     "metadata": {},
     "output_type": "execute_result"
    }
   ],
   "source": [
    "from main import order_df\n",
    "order_df"
   ]
  },
  {
   "cell_type": "code",
   "execution_count": 194,
   "metadata": {},
   "outputs": [
    {
     "ename": "TypeError",
     "evalue": "prepare_data_for_export() missing 1 required positional argument: 'product_column_map'",
     "output_type": "error",
     "traceback": [
      "\u001b[1;31m---------------------------------------------------------------------------\u001b[0m",
      "\u001b[1;31mTypeError\u001b[0m                                 Traceback (most recent call last)",
      "\u001b[1;32mC:\\Users\\VARTOT~1\\AppData\\Local\\Temp/ipykernel_11244/649117374.py\u001b[0m in \u001b[0;36m<module>\u001b[1;34m\u001b[0m\n\u001b[1;32m----> 1\u001b[1;33m \u001b[0morder\u001b[0m\u001b[1;33m.\u001b[0m\u001b[0mprepare_data_for_export\u001b[0m\u001b[1;33m(\u001b[0m\u001b[1;33m)\u001b[0m\u001b[1;33m\u001b[0m\u001b[1;33m\u001b[0m\u001b[0m\n\u001b[0m",
      "\u001b[1;31mTypeError\u001b[0m: prepare_data_for_export() missing 1 required positional argument: 'product_column_map'"
     ]
    }
   ],
   "source": [
    "order.prepare_data_for_export()"
   ]
  },
  {
   "cell_type": "code",
   "execution_count": 170,
   "metadata": {},
   "outputs": [
    {
     "data": {
      "text/plain": [
       "{'manager': {'id': 1, 'name': 'Mother Theresa', 'location': 'Vilnius'},\n",
       " 'customer': {'id': 1, 'name': 'John Locke'},\n",
       " 'order_type': 'regular',\n",
       " 'items': [{'id': 1,\n",
       "   'name': 'Iphone 10',\n",
       "   'price': 1000.0,\n",
       "   'category': 'Phone',\n",
       "   'manufacturer': 'Apple'},\n",
       "  {'id': 3,\n",
       "   'name': 'Bacon',\n",
       "   'price': 10.0,\n",
       "   'category': 'Food',\n",
       "   'manufacturer': \"Old McDonald's\"}],\n",
       " 'quantities': [1, 10],\n",
       " 'discounts': [0.0, 0.1],\n",
       " 'date': '2021-12-05',\n",
       " 'timestamp': '2021-12-05T21:45:37.162431',\n",
       " 'id': 'eb254f79-5603-11ec-a16f-181dea3bd7cd',\n",
       " 'vat': 0.21}"
      ]
     },
     "execution_count": 170,
     "metadata": {},
     "output_type": "execute_result"
    }
   ],
   "source": [
    "from pydantic.json import pydantic_encoder\n",
    "import json\n",
    "order_dict = json.loads(json.dumps(order, indent=2, default=pydantic_encoder))\n",
    "order_dict"
   ]
  },
  {
   "cell_type": "code",
   "execution_count": 173,
   "metadata": {},
   "outputs": [
    {
     "data": {
      "text/html": [
       "<div>\n",
       "<style scoped>\n",
       "    .dataframe tbody tr th:only-of-type {\n",
       "        vertical-align: middle;\n",
       "    }\n",
       "\n",
       "    .dataframe tbody tr th {\n",
       "        vertical-align: top;\n",
       "    }\n",
       "\n",
       "    .dataframe thead th {\n",
       "        text-align: right;\n",
       "    }\n",
       "</style>\n",
       "<table border=\"1\" class=\"dataframe\">\n",
       "  <thead>\n",
       "    <tr style=\"text-align: right;\">\n",
       "      <th></th>\n",
       "      <th>order_type</th>\n",
       "      <th>date</th>\n",
       "      <th>timestamp</th>\n",
       "      <th>id</th>\n",
       "      <th>vat</th>\n",
       "      <th>manager_id</th>\n",
       "      <th>manager_name</th>\n",
       "      <th>manager_location</th>\n",
       "      <th>customer_id</th>\n",
       "      <th>customer_name</th>\n",
       "    </tr>\n",
       "  </thead>\n",
       "  <tbody>\n",
       "    <tr>\n",
       "      <th>0</th>\n",
       "      <td>regular</td>\n",
       "      <td>2021-12-05</td>\n",
       "      <td>2021-12-05T21:45:37.162431</td>\n",
       "      <td>eb254f79-5603-11ec-a16f-181dea3bd7cd</td>\n",
       "      <td>0.21</td>\n",
       "      <td>1</td>\n",
       "      <td>Mother Theresa</td>\n",
       "      <td>Vilnius</td>\n",
       "      <td>1</td>\n",
       "      <td>John Locke</td>\n",
       "    </tr>\n",
       "  </tbody>\n",
       "</table>\n",
       "</div>"
      ],
      "text/plain": [
       "  order_type        date                   timestamp  \\\n",
       "0    regular  2021-12-05  2021-12-05T21:45:37.162431   \n",
       "\n",
       "                                     id   vat  manager_id    manager_name  \\\n",
       "0  eb254f79-5603-11ec-a16f-181dea3bd7cd  0.21           1  Mother Theresa   \n",
       "\n",
       "  manager_location  customer_id customer_name  \n",
       "0          Vilnius            1    John Locke  "
      ]
     },
     "execution_count": 173,
     "metadata": {},
     "output_type": "execute_result"
    }
   ],
   "source": [
    "row_df = (pd.json_normalize([order_dict], sep='_')\n",
    "          .drop(['items', 'quantities', 'discounts'], axis=1))\n",
    "row_df"
   ]
  },
  {
   "cell_type": "code",
   "execution_count": 183,
   "metadata": {},
   "outputs": [
    {
     "data": {
      "text/plain": [
       "{'id': 'product_id',\n",
       " 'name': 'product_name',\n",
       " 'price': 'price',\n",
       " 'category': 'category',\n",
       " 'manufacturer': 'manufacturer'}"
      ]
     },
     "execution_count": 183,
     "metadata": {},
     "output_type": "execute_result"
    }
   ],
   "source": [
    "from main import entity_data_loader\n",
    "product_columns = entity_data_loader.table_info_dict['product'].column_mapping.items()\n",
    "product_columns = {v: k for k, v in product_columns}\n",
    "product_columns"
   ]
  },
  {
   "cell_type": "code",
   "execution_count": 186,
   "metadata": {},
   "outputs": [
    {
     "data": {
      "text/html": [
       "<div>\n",
       "<style scoped>\n",
       "    .dataframe tbody tr th:only-of-type {\n",
       "        vertical-align: middle;\n",
       "    }\n",
       "\n",
       "    .dataframe tbody tr th {\n",
       "        vertical-align: top;\n",
       "    }\n",
       "\n",
       "    .dataframe thead th {\n",
       "        text-align: right;\n",
       "    }\n",
       "</style>\n",
       "<table border=\"1\" class=\"dataframe\">\n",
       "  <thead>\n",
       "    <tr style=\"text-align: right;\">\n",
       "      <th></th>\n",
       "      <th>product_id</th>\n",
       "      <th>product_name</th>\n",
       "      <th>price</th>\n",
       "      <th>category</th>\n",
       "      <th>manufacturer</th>\n",
       "      <th>quantity</th>\n",
       "      <th>discounts</th>\n",
       "    </tr>\n",
       "  </thead>\n",
       "  <tbody>\n",
       "    <tr>\n",
       "      <th>0</th>\n",
       "      <td>1</td>\n",
       "      <td>Iphone 10</td>\n",
       "      <td>1000.0</td>\n",
       "      <td>Phone</td>\n",
       "      <td>Apple</td>\n",
       "      <td>1</td>\n",
       "      <td>0.0</td>\n",
       "    </tr>\n",
       "    <tr>\n",
       "      <th>0</th>\n",
       "      <td>3</td>\n",
       "      <td>Bacon</td>\n",
       "      <td>10.0</td>\n",
       "      <td>Food</td>\n",
       "      <td>Old McDonald's</td>\n",
       "      <td>10</td>\n",
       "      <td>0.1</td>\n",
       "    </tr>\n",
       "  </tbody>\n",
       "</table>\n",
       "</div>"
      ],
      "text/plain": [
       "   product_id product_name   price category    manufacturer  quantity  \\\n",
       "0           1    Iphone 10  1000.0    Phone           Apple         1   \n",
       "0           3        Bacon    10.0     Food  Old McDonald's        10   \n",
       "\n",
       "   discounts  \n",
       "0        0.0  \n",
       "0        0.1  "
      ]
     },
     "execution_count": 186,
     "metadata": {},
     "output_type": "execute_result"
    }
   ],
   "source": [
    "item_df = (pd.concat([pd.DataFrame([item.__dict__]) for item in order.items])\n",
    "           .assign(quantity=order.quantities,\n",
    "                   discounts=order.discounts)\n",
    "           .rename(columns=product_columns)\n",
    "           .drop('__initialised__', axis=1))\n",
    "item_df\n"
   ]
  },
  {
   "cell_type": "code",
   "execution_count": 188,
   "metadata": {},
   "outputs": [
    {
     "data": {
      "text/html": [
       "<div>\n",
       "<style scoped>\n",
       "    .dataframe tbody tr th:only-of-type {\n",
       "        vertical-align: middle;\n",
       "    }\n",
       "\n",
       "    .dataframe tbody tr th {\n",
       "        vertical-align: top;\n",
       "    }\n",
       "\n",
       "    .dataframe thead th {\n",
       "        text-align: right;\n",
       "    }\n",
       "</style>\n",
       "<table border=\"1\" class=\"dataframe\">\n",
       "  <thead>\n",
       "    <tr style=\"text-align: right;\">\n",
       "      <th></th>\n",
       "      <th>order_type</th>\n",
       "      <th>date</th>\n",
       "      <th>timestamp</th>\n",
       "      <th>id</th>\n",
       "      <th>vat</th>\n",
       "      <th>manager_id</th>\n",
       "      <th>manager_name</th>\n",
       "      <th>manager_location</th>\n",
       "      <th>customer_id</th>\n",
       "      <th>customer_name</th>\n",
       "      <th>product_id</th>\n",
       "      <th>product_name</th>\n",
       "      <th>price</th>\n",
       "      <th>category</th>\n",
       "      <th>manufacturer</th>\n",
       "      <th>quantity</th>\n",
       "      <th>discounts</th>\n",
       "    </tr>\n",
       "  </thead>\n",
       "  <tbody>\n",
       "    <tr>\n",
       "      <th>0</th>\n",
       "      <td>regular</td>\n",
       "      <td>2021-12-05</td>\n",
       "      <td>2021-12-05T21:45:37.162431</td>\n",
       "      <td>eb254f79-5603-11ec-a16f-181dea3bd7cd</td>\n",
       "      <td>0.21</td>\n",
       "      <td>1</td>\n",
       "      <td>Mother Theresa</td>\n",
       "      <td>Vilnius</td>\n",
       "      <td>1</td>\n",
       "      <td>John Locke</td>\n",
       "      <td>1</td>\n",
       "      <td>Iphone 10</td>\n",
       "      <td>1000.0</td>\n",
       "      <td>Phone</td>\n",
       "      <td>Apple</td>\n",
       "      <td>1</td>\n",
       "      <td>0.0</td>\n",
       "    </tr>\n",
       "    <tr>\n",
       "      <th>0</th>\n",
       "      <td>regular</td>\n",
       "      <td>2021-12-05</td>\n",
       "      <td>2021-12-05T21:45:37.162431</td>\n",
       "      <td>eb254f79-5603-11ec-a16f-181dea3bd7cd</td>\n",
       "      <td>0.21</td>\n",
       "      <td>1</td>\n",
       "      <td>Mother Theresa</td>\n",
       "      <td>Vilnius</td>\n",
       "      <td>1</td>\n",
       "      <td>John Locke</td>\n",
       "      <td>3</td>\n",
       "      <td>Bacon</td>\n",
       "      <td>10.0</td>\n",
       "      <td>Food</td>\n",
       "      <td>Old McDonald's</td>\n",
       "      <td>10</td>\n",
       "      <td>0.1</td>\n",
       "    </tr>\n",
       "  </tbody>\n",
       "</table>\n",
       "</div>"
      ],
      "text/plain": [
       "  order_type        date                   timestamp  \\\n",
       "0    regular  2021-12-05  2021-12-05T21:45:37.162431   \n",
       "0    regular  2021-12-05  2021-12-05T21:45:37.162431   \n",
       "\n",
       "                                     id   vat  manager_id    manager_name  \\\n",
       "0  eb254f79-5603-11ec-a16f-181dea3bd7cd  0.21           1  Mother Theresa   \n",
       "0  eb254f79-5603-11ec-a16f-181dea3bd7cd  0.21           1  Mother Theresa   \n",
       "\n",
       "  manager_location  customer_id customer_name  product_id product_name  \\\n",
       "0          Vilnius            1    John Locke           1    Iphone 10   \n",
       "0          Vilnius            1    John Locke           3        Bacon   \n",
       "\n",
       "    price category    manufacturer  quantity  discounts  \n",
       "0  1000.0    Phone           Apple         1        0.0  \n",
       "0    10.0     Food  Old McDonald's        10        0.1  "
      ]
     },
     "execution_count": 188,
     "metadata": {},
     "output_type": "execute_result"
    }
   ],
   "source": [
    "pd.concat([row_df, item_df], axis=1)"
   ]
  },
  {
   "cell_type": "code",
   "execution_count": 92,
   "metadata": {},
   "outputs": [],
   "source": [
    "from src._constants import DATA_PATH\n",
    "data_dict = {\n",
    "    file.split('.csv')[0]: pd.read_csv(os.path.join(DATA_PATH, file), sep=';')\n",
    "    for file in os.listdir(DATA_PATH)\n",
    "    }"
   ]
  },
  {
   "cell_type": "code",
   "execution_count": 99,
   "metadata": {},
   "outputs": [
    {
     "data": {
      "text/plain": [
       "{'manager': src.entities.Manager, 'discount': typing.Optional[float]}"
      ]
     },
     "execution_count": 99,
     "metadata": {},
     "output_type": "execute_result"
    }
   ],
   "source": [
    "from src.entities import Customer\n",
    "Customer.__annotations__"
   ]
  },
  {
   "cell_type": "code",
   "execution_count": 67,
   "metadata": {},
   "outputs": [
    {
     "ename": "AttributeError",
     "evalue": "'Order' object has no attribute 'sum'",
     "output_type": "error",
     "traceback": [
      "\u001b[1;31m---------------------------------------------------------------------------\u001b[0m",
      "\u001b[1;31mAttributeError\u001b[0m                            Traceback (most recent call last)",
      "\u001b[1;32mC:\\Users\\VARTOT~1\\AppData\\Local\\Temp/ipykernel_11244/1659650871.py\u001b[0m in \u001b[0;36m<module>\u001b[1;34m\u001b[0m\n\u001b[0;32m      1\u001b[0m \u001b[1;32mfrom\u001b[0m \u001b[0mmain\u001b[0m \u001b[1;32mimport\u001b[0m \u001b[0morder\u001b[0m\u001b[1;33m\u001b[0m\u001b[1;33m\u001b[0m\u001b[0m\n\u001b[1;32m----> 2\u001b[1;33m \u001b[0morder\u001b[0m\u001b[1;33m.\u001b[0m\u001b[0msum\u001b[0m\u001b[1;33m\u001b[0m\u001b[1;33m\u001b[0m\u001b[0m\n\u001b[0m",
      "\u001b[1;31mAttributeError\u001b[0m: 'Order' object has no attribute 'sum'"
     ]
    }
   ],
   "source": [
    "from main import order\n",
    "order.sum"
   ]
  },
  {
   "cell_type": "code",
   "execution_count": 40,
   "metadata": {},
   "outputs": [
    {
     "data": {
      "text/html": [
       "<div>\n",
       "<style scoped>\n",
       "    .dataframe tbody tr th:only-of-type {\n",
       "        vertical-align: middle;\n",
       "    }\n",
       "\n",
       "    .dataframe tbody tr th {\n",
       "        vertical-align: top;\n",
       "    }\n",
       "\n",
       "    .dataframe thead th {\n",
       "        text-align: right;\n",
       "    }\n",
       "</style>\n",
       "<table border=\"1\" class=\"dataframe\">\n",
       "  <thead>\n",
       "    <tr style=\"text-align: right;\">\n",
       "      <th></th>\n",
       "      <th>id</th>\n",
       "      <th>date</th>\n",
       "      <th>amount</th>\n",
       "    </tr>\n",
       "  </thead>\n",
       "  <tbody>\n",
       "    <tr>\n",
       "      <th>1</th>\n",
       "      <td>id1</td>\n",
       "      <td>2021-01-02</td>\n",
       "      <td>200</td>\n",
       "    </tr>\n",
       "    <tr>\n",
       "      <th>2</th>\n",
       "      <td>id2</td>\n",
       "      <td>2021-02-02</td>\n",
       "      <td>30</td>\n",
       "    </tr>\n",
       "  </tbody>\n",
       "</table>\n",
       "</div>"
      ],
      "text/plain": [
       "    id        date  amount\n",
       "1  id1  2021-01-02     200\n",
       "2  id2  2021-02-02      30"
      ]
     },
     "execution_count": 40,
     "metadata": {},
     "output_type": "execute_result"
    }
   ],
   "source": [
    "from src.data_loader import filter_latest_rows_in_df\n",
    "filter_latest_rows_in_df(df, 'id', 'date')"
   ]
  },
  {
   "cell_type": "code",
   "execution_count": 31,
   "metadata": {},
   "outputs": [
    {
     "data": {
      "text/plain": [
       "'c:\\\\Users\\\\Vartotojas\\\\PycharmProjects\\\\sandeliapp'"
      ]
     },
     "execution_count": 31,
     "metadata": {},
     "output_type": "execute_result"
    }
   ],
   "source": [
    "import os\n",
    "os.getcwd()"
   ]
  },
  {
   "cell_type": "code",
   "execution_count": 30,
   "metadata": {},
   "outputs": [
    {
     "ename": "ImportError",
     "evalue": "cannot import name 'filter_latest_rows_in_df' from 'src.data_loader' (c:\\Users\\Vartotojas\\PycharmProjects\\sandeliapp\\src\\data_loader.py)",
     "output_type": "error",
     "traceback": [
      "\u001b[1;31m---------------------------------------------------------------------------\u001b[0m",
      "\u001b[1;31mImportError\u001b[0m                               Traceback (most recent call last)",
      "\u001b[1;32mC:\\Users\\VARTOT~1\\AppData\\Local\\Temp/ipykernel_11244/96242503.py\u001b[0m in \u001b[0;36m<module>\u001b[1;34m\u001b[0m\n\u001b[1;32m----> 1\u001b[1;33m \u001b[1;32mfrom\u001b[0m \u001b[0msrc\u001b[0m\u001b[1;33m.\u001b[0m\u001b[0mdata_loader\u001b[0m \u001b[1;32mimport\u001b[0m \u001b[0mfilter_latest_rows_in_df\u001b[0m\u001b[1;33m\u001b[0m\u001b[1;33m\u001b[0m\u001b[0m\n\u001b[0m\u001b[0;32m      2\u001b[0m \u001b[0mget_ipython\u001b[0m\u001b[1;33m(\u001b[0m\u001b[1;33m)\u001b[0m\u001b[1;33m.\u001b[0m\u001b[0mrun_line_magic\u001b[0m\u001b[1;33m(\u001b[0m\u001b[1;34m'pinfo'\u001b[0m\u001b[1;33m,\u001b[0m \u001b[1;34m'filter_latest_rows_in_df'\u001b[0m\u001b[1;33m)\u001b[0m\u001b[1;33m\u001b[0m\u001b[1;33m\u001b[0m\u001b[0m\n\u001b[0;32m      3\u001b[0m \u001b[1;31m# filter_latest_rows_in_df(df, 'id', 'date')\u001b[0m\u001b[1;33m\u001b[0m\u001b[1;33m\u001b[0m\u001b[0m\n",
      "\u001b[1;31mImportError\u001b[0m: cannot import name 'filter_latest_rows_in_df' from 'src.data_loader' (c:\\Users\\Vartotojas\\PycharmProjects\\sandeliapp\\src\\data_loader.py)"
     ]
    }
   ],
   "source": [
    "from src.data_loader import filter_latest_rows_in_df\n",
    "filter_latest_rows_in_df?\n",
    "# filter_latest_rows_in_df(df, 'id', 'date')"
   ]
  },
  {
   "cell_type": "code",
   "execution_count": 15,
   "metadata": {},
   "outputs": [
    {
     "ename": "ImportError",
     "evalue": "cannot import name 'filter_latest_rows_in_df' from 'src.data_loader' (c:\\Users\\Vartotojas\\PycharmProjects\\sandeliapp\\src\\data_loader.py)",
     "output_type": "error",
     "traceback": [
      "\u001b[1;31m---------------------------------------------------------------------------\u001b[0m",
      "\u001b[1;31mImportError\u001b[0m                               Traceback (most recent call last)",
      "\u001b[1;32mC:\\Users\\VARTOT~1\\AppData\\Local\\Temp/ipykernel_11244/4035634543.py\u001b[0m in \u001b[0;36m<module>\u001b[1;34m\u001b[0m\n\u001b[1;32m----> 1\u001b[1;33m \u001b[1;32mfrom\u001b[0m \u001b[0msrc\u001b[0m\u001b[1;33m.\u001b[0m\u001b[0mdata_loader\u001b[0m \u001b[1;32mimport\u001b[0m \u001b[0mfilter_latest_rows_in_df\u001b[0m\u001b[1;33m\u001b[0m\u001b[1;33m\u001b[0m\u001b[0m\n\u001b[0m",
      "\u001b[1;31mImportError\u001b[0m: cannot import name 'filter_latest_rows_in_df' from 'src.data_loader' (c:\\Users\\Vartotojas\\PycharmProjects\\sandeliapp\\src\\data_loader.py)"
     ]
    }
   ],
   "source": [
    "from src.data_loader import filter_latest_rows_in_df"
   ]
  }
 ],
 "metadata": {
  "interpreter": {
   "hash": "4ef4330d7ab69c10fec580fadac60c624ace77e6cbfbd4e9b002cd46a0003054"
  },
  "kernelspec": {
   "display_name": "Python 3.9.7 64-bit ('sandeliapp': conda)",
   "language": "python",
   "name": "python3"
  },
  "language_info": {
   "codemirror_mode": {
    "name": "ipython",
    "version": 3
   },
   "file_extension": ".py",
   "mimetype": "text/x-python",
   "name": "python",
   "nbconvert_exporter": "python",
   "pygments_lexer": "ipython3",
   "version": "3.9.7"
  },
  "orig_nbformat": 4
 },
 "nbformat": 4,
 "nbformat_minor": 2
}
