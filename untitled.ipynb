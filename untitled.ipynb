{
 "cells": [
  {
   "cell_type": "code",
   "execution_count": 1,
   "metadata": {},
   "outputs": [],
   "source": [
    "%load_ext autoreload\n",
    "%autoreload 2"
   ]
  },
  {
   "cell_type": "code",
   "execution_count": 4,
   "metadata": {},
   "outputs": [],
   "source": [
    "from main import order"
   ]
  },
  {
   "cell_type": "code",
   "execution_count": 23,
   "metadata": {},
   "outputs": [
    {
     "data": {
      "text/plain": [
       "'2021-12-10 07:28:59.389534'"
      ]
     },
     "execution_count": 23,
     "metadata": {},
     "output_type": "execute_result"
    }
   ],
   "source": [
    "from datetime import datetime\n",
    "datetime.now().strftime('%Y-%m-%d %H:%M:%S.%f')"
   ]
  },
  {
   "cell_type": "code",
   "execution_count": 5,
   "metadata": {},
   "outputs": [
    {
     "data": {
      "text/html": [
       "<div>\n",
       "<style scoped>\n",
       "    .dataframe tbody tr th:only-of-type {\n",
       "        vertical-align: middle;\n",
       "    }\n",
       "\n",
       "    .dataframe tbody tr th {\n",
       "        vertical-align: top;\n",
       "    }\n",
       "\n",
       "    .dataframe thead th {\n",
       "        text-align: right;\n",
       "    }\n",
       "</style>\n",
       "<table border=\"1\" class=\"dataframe\">\n",
       "  <thead>\n",
       "    <tr style=\"text-align: right;\">\n",
       "      <th></th>\n",
       "      <th>order_type</th>\n",
       "      <th>order_date</th>\n",
       "      <th>timestamp</th>\n",
       "      <th>order_id</th>\n",
       "      <th>vat</th>\n",
       "      <th>manager_manager_id</th>\n",
       "      <th>manager_manager_name</th>\n",
       "      <th>manager_location</th>\n",
       "      <th>customer_customer_id</th>\n",
       "      <th>customer_customer_name</th>\n",
       "      <th>product_id</th>\n",
       "      <th>product_name</th>\n",
       "      <th>price</th>\n",
       "      <th>product_category</th>\n",
       "      <th>manufacturer</th>\n",
       "      <th>quantity</th>\n",
       "      <th>discount</th>\n",
       "    </tr>\n",
       "  </thead>\n",
       "  <tbody>\n",
       "    <tr>\n",
       "      <th>0</th>\n",
       "      <td>regular</td>\n",
       "      <td>2021-12-06</td>\n",
       "      <td>2021-12-06T19:13:09.099752</td>\n",
       "      <td>c8e37915-56b7-11ec-93e8-181dea3bd7cd</td>\n",
       "      <td>0.21</td>\n",
       "      <td>1</td>\n",
       "      <td>Mother Theresa</td>\n",
       "      <td>Vilnius</td>\n",
       "      <td>1</td>\n",
       "      <td>John Locke</td>\n",
       "      <td>1</td>\n",
       "      <td>Iphone 10</td>\n",
       "      <td>1000.0</td>\n",
       "      <td>Phone</td>\n",
       "      <td>Apple</td>\n",
       "      <td>1</td>\n",
       "      <td>0.0</td>\n",
       "    </tr>\n",
       "    <tr>\n",
       "      <th>0</th>\n",
       "      <td>regular</td>\n",
       "      <td>2021-12-06</td>\n",
       "      <td>2021-12-06T19:13:09.099752</td>\n",
       "      <td>c8e37915-56b7-11ec-93e8-181dea3bd7cd</td>\n",
       "      <td>0.21</td>\n",
       "      <td>1</td>\n",
       "      <td>Mother Theresa</td>\n",
       "      <td>Vilnius</td>\n",
       "      <td>1</td>\n",
       "      <td>John Locke</td>\n",
       "      <td>3</td>\n",
       "      <td>Bacon</td>\n",
       "      <td>10.0</td>\n",
       "      <td>Food</td>\n",
       "      <td>Old McDonald's</td>\n",
       "      <td>10</td>\n",
       "      <td>0.1</td>\n",
       "    </tr>\n",
       "  </tbody>\n",
       "</table>\n",
       "</div>"
      ],
      "text/plain": [
       "  order_type  order_date                   timestamp  \\\n",
       "0    regular  2021-12-06  2021-12-06T19:13:09.099752   \n",
       "0    regular  2021-12-06  2021-12-06T19:13:09.099752   \n",
       "\n",
       "                               order_id   vat  manager_manager_id  \\\n",
       "0  c8e37915-56b7-11ec-93e8-181dea3bd7cd  0.21                   1   \n",
       "0  c8e37915-56b7-11ec-93e8-181dea3bd7cd  0.21                   1   \n",
       "\n",
       "  manager_manager_name manager_location  customer_customer_id  \\\n",
       "0       Mother Theresa          Vilnius                     1   \n",
       "0       Mother Theresa          Vilnius                     1   \n",
       "\n",
       "  customer_customer_name  product_id product_name   price product_category  \\\n",
       "0             John Locke           1    Iphone 10  1000.0            Phone   \n",
       "0             John Locke           3        Bacon    10.0             Food   \n",
       "\n",
       "     manufacturer  quantity  discount  \n",
       "0           Apple         1       0.0  \n",
       "0  Old McDonald's        10       0.1  "
      ]
     },
     "execution_count": 5,
     "metadata": {},
     "output_type": "execute_result"
    }
   ],
   "source": [
    "order.prepare_for_export()"
   ]
  },
  {
   "cell_type": "code",
   "execution_count": 9,
   "metadata": {},
   "outputs": [
    {
     "ename": "SyntaxError",
     "evalue": "(unicode error) 'unicodeescape' codec can't decode bytes in position 2-3: truncated \\UXXXXXXXX escape (Temp/ipykernel_1796/3533790469.py, line 1)",
     "output_type": "error",
     "traceback": [
      "\u001b[1;36m  File \u001b[1;32m\"C:\\Users\\VARTOT~1\\AppData\\Local\\Temp/ipykernel_1796/3533790469.py\"\u001b[1;36m, line \u001b[1;32m1\u001b[0m\n\u001b[1;33m    order.export('C:\\Users\\Vartotojas\\PycharmProjects\\sandeliapp\\data\\order.csv')\u001b[0m\n\u001b[1;37m                                                                                ^\u001b[0m\n\u001b[1;31mSyntaxError\u001b[0m\u001b[1;31m:\u001b[0m (unicode error) 'unicodeescape' codec can't decode bytes in position 2-3: truncated \\UXXXXXXXX escape\n"
     ]
    }
   ],
   "source": [
    "order.export('C:\\Users\\Vartotojas\\PycharmProjects\\sandeliapp\\data\\order.csv')"
   ]
  }
 ],
 "metadata": {
  "interpreter": {
   "hash": "4ef4330d7ab69c10fec580fadac60c624ace77e6cbfbd4e9b002cd46a0003054"
  },
  "kernelspec": {
   "display_name": "Python 3.9.7 64-bit ('sandeliapp': conda)",
   "language": "python",
   "name": "python3"
  },
  "language_info": {
   "codemirror_mode": {
    "name": "ipython",
    "version": 3
   },
   "file_extension": ".py",
   "mimetype": "text/x-python",
   "name": "python",
   "nbconvert_exporter": "python",
   "pygments_lexer": "ipython3",
   "version": "3.9.7"
  },
  "orig_nbformat": 4
 },
 "nbformat": 4,
 "nbformat_minor": 2
}
